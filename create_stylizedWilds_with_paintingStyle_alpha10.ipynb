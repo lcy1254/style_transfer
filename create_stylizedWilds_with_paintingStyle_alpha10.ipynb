{
 "cells": [
  {
   "cell_type": "code",
   "execution_count": 1,
   "id": "f1f6fdc3",
   "metadata": {},
   "outputs": [
    {
     "name": "stdout",
     "output_type": "stream",
     "text": [
      "/home/lcy/style_transfer\r\n"
     ]
    }
   ],
   "source": [
    "!pwd"
   ]
  },
  {
   "cell_type": "code",
   "execution_count": 2,
   "id": "cc43d1a4",
   "metadata": {},
   "outputs": [],
   "source": [
    "import os, glob, json\n",
    "import time\n",
    "import numpy as np\n",
    "import pandas as pd\n",
    "import h5py\n",
    "from PIL import Image\n",
    "import random\n",
    "from random import shuffle\n",
    "import copy\n",
    "import pickle\n",
    "from math import ceil\n",
    "import matplotlib.pyplot as plt\n",
    "%matplotlib inline"
   ]
  },
  {
   "cell_type": "code",
   "execution_count": 3,
   "id": "9fbcaf94",
   "metadata": {},
   "outputs": [],
   "source": [
    "#os.environ[\"CUDA_DEVICE_ORDER\"] = \"PCI_BUS_ID\" \n",
    "#os.environ[\"CUDA_VISIBLE_DEVICES\"] = \"0\""
   ]
  },
  {
   "cell_type": "code",
   "execution_count": 4,
   "id": "0485b363",
   "metadata": {},
   "outputs": [],
   "source": [
    "from PIL import ImageFile\n",
    "#ImageFile.LOAD_TRUNCATED_IMAGES = True"
   ]
  },
  {
   "cell_type": "code",
   "execution_count": 5,
   "id": "e6017da6",
   "metadata": {},
   "outputs": [],
   "source": [
    "from stylize_datasets.stylize_saveHdf5_wilds import stylize_saveHdf5"
   ]
  },
  {
   "cell_type": "code",
   "execution_count": 6,
   "id": "b99d5336",
   "metadata": {},
   "outputs": [],
   "source": [
    "data_dir = '/media/dnr/data_crypt/cy_strap/camelyon17_v1.0/patches/'\n",
    "main_dir = '/media/dnr/data_crypt/cy_strap/train_folders' \n",
    "main_outdir = '/media/dnr/data_crypt/cy_strap/output_96/'\n",
    "folders = glob.glob(f'{main_dir}/*/')"
   ]
  },
  {
   "cell_type": "code",
   "execution_count": null,
   "id": "3c81fd02",
   "metadata": {},
   "outputs": [
    {
     "name": "stdout",
     "output_type": "stream",
     "text": [
      "/media/dnr/data_crypt/cy_strap/train_folders/style_High_Renaissance/\n",
      "/media/dnr/data_crypt/cy_strap/train_folders/style_High_Renaissance/\n",
      "/media/dnr/data_crypt/cy_strap/output_96/style_High_Renaissance_96_1024_256_alpha10.hdf5\n"
     ]
    }
   ],
   "source": [
    "for folder in folders:\n",
    "    print(folder)\n",
    "    style_dir = folder\n",
    "    print(style_dir)\n",
    "    type = str(folder.split('/')[-2]) + '_96_1024_256_alpha10.hdf5'\n",
    "    out_path = os.path.join(main_outdir, type)\n",
    "    print(out_path) \n",
    "    error = stylize_saveHdf5(data_dir=data_dir, style_dir=style_dir, out_path=out_path, alpha=1., save_size=96, content_size=1024, style_size=256)\n",
    "    print(error)"
   ]
  },
  {
   "cell_type": "code",
   "execution_count": 8,
   "id": "161115b2",
   "metadata": {},
   "outputs": [],
   "source": [
    "n = 2"
   ]
  },
  {
   "cell_type": "code",
   "execution_count": null,
   "id": "d54442e8",
   "metadata": {},
   "outputs": [
    {
     "name": "stdout",
     "output_type": "stream",
     "text": [
      "/media/dnr/data_crypt/cy_strap/train_folders/style_Rococo/\n",
      "/media/dnr/data_crypt/cy_strap/output_96/style_Rococo_96_1024_256_alpha10.hdf5\n"
     ]
    }
   ],
   "source": [
    "style_dir = folders[n]\n",
    "print(style_dir)\n",
    "type = str(folders[n].split('/')[-2]) + '_96_1024_256_alpha10.hdf5'\n",
    "out_path = os.path.join(main_outdir, type)\n",
    "print(out_path)\n",
    "error = stylize_saveHdf5(data_dir=data_dir, style_dir=style_dir, out_path=out_path, alpha=1., save_size=96, content_size=1024, style_size=256)\n",
    "print(error)"
   ]
  },
  {
   "cell_type": "code",
   "execution_count": null,
   "id": "70d19b03",
   "metadata": {},
   "outputs": [],
   "source": []
  }
 ],
 "metadata": {
  "kernelspec": {
   "display_name": "Python 3",
   "language": "python",
   "name": "python3"
  },
  "language_info": {
   "codemirror_mode": {
    "name": "ipython",
    "version": 3
   },
   "file_extension": ".py",
   "mimetype": "text/x-python",
   "name": "python",
   "nbconvert_exporter": "python",
   "pygments_lexer": "ipython3",
   "version": "3.6.10"
  }
 },
 "nbformat": 4,
 "nbformat_minor": 5
}
