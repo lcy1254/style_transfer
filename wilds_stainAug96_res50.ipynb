{
 "cells": [
  {
   "cell_type": "code",
   "execution_count": 3,
   "metadata": {
    "id": "jaw26ccWiZrF",
    "outputId": "55d34691-8fbc-4790-8bc2-6d075970eccf"
   },
   "outputs": [
    {
     "name": "stdout",
     "output_type": "stream",
     "text": [
      "/home/lcy/anaconda3/envs/strap/bin/jupyter\r\n"
     ]
    }
   ],
   "source": [
    "!which jupyter"
   ]
  },
  {
   "cell_type": "code",
   "execution_count": 4,
   "metadata": {
    "id": "xBI4jLQqiZrI",
    "outputId": "7476acad-fbba-445a-d354-4060078723c4",
    "scrolled": false
   },
   "outputs": [
    {
     "name": "stdout",
     "output_type": "stream",
     "text": [
      "Sun Jul 25 11:56:16 2021       \n",
      "+-----------------------------------------------------------------------------+\n",
      "| NVIDIA-SMI 460.32.03    Driver Version: 460.32.03    CUDA Version: 11.2     |\n",
      "|-------------------------------+----------------------+----------------------+\n",
      "| GPU  Name        Persistence-M| Bus-Id        Disp.A | Volatile Uncorr. ECC |\n",
      "| Fan  Temp  Perf  Pwr:Usage/Cap|         Memory-Usage | GPU-Util  Compute M. |\n",
      "|                               |                      |               MIG M. |\n",
      "|===============================+======================+======================|\n",
      "|   0  GeForce GTX 108...  On   | 00000000:02:00.0 Off |                  N/A |\n",
      "| 45%   73C    P2   248W / 270W |   1631MiB / 11178MiB |     68%      Default |\n",
      "|                               |                      |                  N/A |\n",
      "+-------------------------------+----------------------+----------------------+\n",
      "|   1  GeForce GTX 108...  On   | 00000000:03:00.0 Off |                  N/A |\n",
      "|  0%   34C    P8    13W / 270W |     71MiB / 11175MiB |      0%      Default |\n",
      "|                               |                      |                  N/A |\n",
      "+-------------------------------+----------------------+----------------------+\n",
      "                                                                               \n",
      "+-----------------------------------------------------------------------------+\n",
      "| Processes:                                                                  |\n",
      "|  GPU   GI   CI        PID   Type   Process name                  GPU Memory |\n",
      "|        ID   ID                                                   Usage      |\n",
      "|=============================================================================|\n",
      "|    0   N/A  N/A     27815      C   ...da3/envs/strap/bin/python     1627MiB |\n",
      "|    1   N/A  N/A      1255      G   /usr/lib/xorg/Xorg                 39MiB |\n",
      "|    1   N/A  N/A      1485      G   /usr/bin/gnome-shell               26MiB |\n",
      "+-----------------------------------------------------------------------------+\n"
     ]
    }
   ],
   "source": [
    "!nvidia-smi"
   ]
  },
  {
   "cell_type": "code",
   "execution_count": 5,
   "metadata": {
    "id": "4ieERMjWiZrJ"
   },
   "outputs": [],
   "source": [
    "import os\n",
    "os.environ[\"CUDA_DEVICE_ORDER\"] = \"PCI_BUS_ID\" \n",
    "os.environ[\"CUDA_VISIBLE_DEVICES\"] = \"1\""
   ]
  },
  {
   "cell_type": "code",
   "execution_count": 6,
   "metadata": {
    "id": "KmaWhlOciZrJ"
   },
   "outputs": [],
   "source": [
    "import os, glob, json\n",
    "import time\n",
    "import numpy as np\n",
    "import pandas as pd\n",
    "import h5py\n",
    "from PIL import Image\n",
    "import random\n",
    "from random import shuffle\n",
    "import copy\n",
    "import pickle\n",
    "from math import ceil\n",
    "import matplotlib.pyplot as plt\n",
    "%matplotlib inline"
   ]
  },
  {
   "cell_type": "code",
   "execution_count": 7,
   "metadata": {
    "id": "pVMXzH3miZrJ"
   },
   "outputs": [],
   "source": [
    "import torch\n",
    "import torch.nn as nn\n",
    "import torch.nn.functional as F\n",
    "import torch.nn.parallel\n",
    "import torch.backends.cudnn as cudnn\n",
    "import torch.optim as optim\n",
    "import torch.utils.data\n",
    "import torch.utils.data as data\n",
    "import torchvision.datasets as dset\n",
    "import torchvision.transforms as transforms\n",
    "import torchvision.utils as vutils\n",
    "import torchvision.models as models\n",
    "import torch.nn.init as init"
   ]
  },
  {
   "cell_type": "code",
   "execution_count": 8,
   "metadata": {
    "id": "LwxuE5APiZrK"
   },
   "outputs": [],
   "source": [
    "batchSize=32\n",
    "imgSize=int(96)\n",
    "num_classes = 2"
   ]
  },
  {
   "cell_type": "code",
   "execution_count": 9,
   "metadata": {
    "id": "PlqagemIiZrK",
    "outputId": "1d595992-089e-43a6-85a6-972bd9a30365"
   },
   "outputs": [],
   "source": [
    "from histomicstk.preprocessing.augmentation.color_augmentation import rgb_perturb_stain_concentration"
   ]
  },
  {
   "cell_type": "code",
   "execution_count": 10,
   "metadata": {
    "id": "7mG3TzV7iZrL"
   },
   "outputs": [],
   "source": [
    "class stain_augment(object):\n",
    "    def __call__(self, sample):\n",
    "        sample = np.array(sample)\n",
    "        rgbaug = rgb_perturb_stain_concentration(sample, sigma1=1., sigma2=1.)\n",
    "        return rgbaug"
   ]
  },
  {
   "cell_type": "code",
   "execution_count": 10,
   "metadata": {
    "id": "H41kMh6wiZrL"
   },
   "outputs": [],
   "source": [
    "# plt.imshow(rgb_perturb_stain_concentration(imgs[0], sigma1=1., sigma2=1.))"
   ]
  },
  {
   "cell_type": "code",
   "execution_count": 11,
   "metadata": {
    "id": "vi23_CteiZrL"
   },
   "outputs": [],
   "source": [
    "augment = transforms.Compose([stain_augment(),\n",
    "                              transforms.ToPILImage(),\n",
    "                              # transforms.Resize(imgSize),\n",
    "                              transforms.RandomResizedCrop(imgSize),\n",
    "                              transforms.RandomHorizontalFlip(p=0.5),\n",
    "                              transforms.RandomVerticalFlip(p=0.5),\n",
    "                              # transforms.RandomResizedCrop(imgSize, scale=(0.8, 1.0), ratio=(1, 1)),\n",
    "                              transforms.ToTensor(),\n",
    "                              transforms.Normalize([0.485, 0.456, 0.406], [0.229, 0.224, 0.225])])\n",
    "\n",
    "transform = transforms.Compose([transforms.ToPILImage(),\n",
    "                                transforms.Resize(imgSize),\n",
    "                                transforms.ToTensor(),\n",
    "                                transforms.Normalize([0.485, 0.456, 0.406], [0.229, 0.224, 0.225])])"
   ]
  },
  {
   "cell_type": "code",
   "execution_count": 12,
   "metadata": {
    "id": "lDwssRthiZrM"
   },
   "outputs": [],
   "source": [
    "data_root_path = '/media/dnr/data_crypt/cy_strap/camelyon17_v1.0/patches'\n",
    "csv_path = '/media/dnr/data_crypt/cy_strap/metadata_fnames_splits_modSplit.csv'\n",
    "# error_path = \"../data/error_stainNorm.txt\""
   ]
  },
  {
   "cell_type": "code",
   "execution_count": 13,
   "metadata": {
    "id": "rxkO-D-7iZrM",
    "outputId": "264b1be9-a198-44c3-cbca-577e799fbe2b"
   },
   "outputs": [
    {
     "data": {
      "text/plain": [
       "(455954, 11)"
      ]
     },
     "execution_count": 13,
     "metadata": {},
     "output_type": "execute_result"
    }
   ],
   "source": [
    "df = pd.read_csv(csv_path); df.shape"
   ]
  },
  {
   "cell_type": "code",
   "execution_count": 14,
   "metadata": {
    "id": "qudlDYCmiZrM"
   },
   "outputs": [
    {
     "data": {
      "text/plain": [
       "455954"
      ]
     },
     "execution_count": 14,
     "metadata": {},
     "output_type": "execute_result"
    }
   ],
   "source": [
    "fnames = df.fnames.tolist(); len(fnames)"
   ]
  },
  {
   "cell_type": "code",
   "execution_count": 15,
   "metadata": {
    "scrolled": true
   },
   "outputs": [],
   "source": [
    "filenames = []\n",
    "origin = str('/media/dnr/data_crypt/cy_strap/camelyon17_v1.0')\n",
    "for name in fnames:\n",
    "    temp = str(name[7:])\n",
    "    temp_path = origin + temp\n",
    "    filenames.append(temp_path)"
   ]
  },
  {
   "cell_type": "code",
   "execution_count": null,
   "metadata": {
    "id": "YosoKWEXiZrN"
   },
   "outputs": [
    {
     "name": "stdout",
     "output_type": "stream",
     "text": [
      "error_142864_kth(=11) out of bounds (11)\n",
      "error_151892_kth(=24) out of bounds (24)\n",
      "error_201647_index 0 is out of bounds for axis 0 with size 0\n"
     ]
    },
    {
     "name": "stderr",
     "output_type": "stream",
     "text": [
      "/home/lcy/anaconda3/envs/strap/lib/python3.6/site-packages/histomicstk/preprocessing/color_conversion/sda_to_rgb.py:34: RuntimeWarning: overflow encountered in power\n",
      "  im_rgb = I_0 ** (1 - im_sda / 255.)\n",
      "/home/lcy/anaconda3/envs/strap/lib/python3.6/site-packages/histomicstk/preprocessing/color_conversion/rgb_to_sda.py:48: RuntimeWarning: divide by zero encountered in log\n",
      "  im_sda = -np.log(im_rgb/(1.*I_0)) * 255/np.log(I_0)\n",
      "/home/lcy/anaconda3/envs/strap/lib/python3.6/site-packages/histomicstk/preprocessing/color_deconvolution/complement_stain_matrix.py:31: RuntimeWarning: invalid value encountered in true_divide\n",
      "  return np.array([stain0, stain1, stain2 / np.linalg.norm(stain2)]).T\n"
     ]
    }
   ],
   "source": [
    "error = []\n",
    "for i in range(len(filenames)):\n",
    "    sample_ = Image.open(filenames[i])\n",
    "    sample_ = np.array(sample_)\n",
    "   \n",
    "    if sample_.shape[2] == 4:\n",
    "        sample_ = sample_[:,:,:3]\n",
    "    elif sample_.shape[2] != 3:\n",
    "        raise ValueError('image channel num is not 3')  \n",
    "    try:\n",
    "        rgbaug = rgb_perturb_stain_concentration(sample_, sigma1=1., sigma2=1.)\n",
    "    except Exception as e:\n",
    "        error.append(i)\n",
    "        print(f'error_{i}_{e}')"
   ]
  },
  {
   "cell_type": "code",
   "execution_count": null,
   "metadata": {
    "id": "Ln8pE4RviZrN"
   },
   "outputs": [],
   "source": [
    "# error, len(error)"
   ]
  },
  {
   "cell_type": "code",
   "execution_count": null,
   "metadata": {
    "id": "fLAB2zkHiZrN"
   },
   "outputs": [],
   "source": [
    "# import json\n",
    "# with open(\"../data/error_stainAug.txt\", \"w\") as fp:\n",
    "#     json.dump(error, fp)\n",
    "# with open(\"../data/error_stainAug.txt\", \"r\") as fp:\n",
    "#     error2 = json.load(fp)"
   ]
  },
  {
   "cell_type": "code",
   "execution_count": null,
   "metadata": {
    "id": "L0IIQqOYiZrN"
   },
   "outputs": [],
   "source": [
    "# error == error2"
   ]
  },
  {
   "cell_type": "code",
   "execution_count": null,
   "metadata": {
    "id": "YH69NkoDiZrN"
   },
   "outputs": [],
   "source": [
    "# len(error2)"
   ]
  },
  {
   "cell_type": "code",
   "execution_count": 16,
   "metadata": {
    "id": "YVYPyNEFiZrN"
   },
   "outputs": [],
   "source": [
    "data_root_path = '/media/dnr/data_crypt/cy_strap/camelyon17_v1.0/patches'\n",
    "csv_path = '/media/dnr/data_crypt/cy_strap/metadata_fnames_splits_modSplit.csv'\n",
    "error_path = '/media/dnr/data_crypt/cy_strap/error_stainAug.txt'"
   ]
  },
  {
   "cell_type": "code",
   "execution_count": 23,
   "metadata": {
    "id": "oVT-0CRniZrO"
   },
   "outputs": [],
   "source": [
    "class MyDataset(data.Dataset):\n",
    "    def __init__(self, data_root_path=data_root_path, csv_path=csv_path, error_path=error_path, dset_type='train', transform=None):\n",
    "        \"\"\"\n",
    "        dset_type: [\"train\", \"val\", \"test\"]\n",
    "        \"\"\"\n",
    "\n",
    "        df = pd.read_csv(csv_path)\n",
    "        with open(error_path, \"r\") as fp:\n",
    "            error = json.load(fp)\n",
    "        df = df.drop(df.index[error])\n",
    "        \n",
    "        self.df = df[df.data_split==dset_type]\n",
    "        \n",
    "        # modification: convert fnames to my path name \n",
    "        origin = str('/media/dnr/data_crypt/cy_strap/camelyon17_v1.0')\n",
    "        temp_fnames = self.df.fnames.tolist()\n",
    "        temp = []\n",
    "        for name in temp_fnames:\n",
    "            t = str(name[7:])\n",
    "            temp_path = origin + t\n",
    "            temp.append(temp_path)\n",
    "        self.fnames = temp\n",
    "        self.labels = self.df.tumor.tolist()\n",
    "        self.transform=transform\n",
    "\n",
    "    def __getitem__(self, index):\n",
    "        fname = self.fnames[index]\n",
    "        label = self.labels[index]\n",
    "        img = np.array(Image.open(fname), dtype='uint8')\n",
    "        \n",
    "        if img.shape[2] == 4:\n",
    "            img = img[:,:,:3]\n",
    "        elif img.shape[2] != 3:\n",
    "            raise ValueError('image channel num is not 3')\n",
    "        \n",
    "        if self.transform is not None:\n",
    "            img = self.transform(img)\n",
    "        return img, label\n",
    "\n",
    "    def __len__(self):\n",
    "        return len(self.df)"
   ]
  },
  {
   "cell_type": "code",
   "execution_count": 24,
   "metadata": {
    "id": "_72mAkPgiZrO",
    "outputId": "1fa60fd8-8edf-4c34-af96-44d90307a96a"
   },
   "outputs": [
    {
     "name": "stdout",
     "output_type": "stream",
     "text": [
      "Finished loading train dataset: 333863 samples\n",
      "Finished loading val dataset: 37034 samples\n",
      "Finished loading test dataset: 85054 samples\n"
     ]
    }
   ],
   "source": [
    "datasets = {}\n",
    "loaders = {}\n",
    "\n",
    "for dset_type in ['train', 'val', 'test']:\n",
    "    if dset_type == 'train':\n",
    "        datasets[dset_type] = MyDataset(dset_type=dset_type, transform = augment)\n",
    "        loaders[dset_type] = torch.utils.data.DataLoader(datasets[dset_type], batch_size=batchSize, shuffle=True, num_workers=4, pin_memory=True)\n",
    "    elif dset_type == 'val':\n",
    "        datasets[dset_type] = MyDataset(dset_type=dset_type, transform = transform)\n",
    "        loaders[dset_type] = torch.utils.data.DataLoader(datasets[dset_type], batch_size=batchSize, shuffle=True, num_workers=4, pin_memory=True)\n",
    "    elif dset_type == 'test':\n",
    "        datasets[dset_type] = MyDataset(dset_type=dset_type, transform = transform)\n",
    "        loaders[dset_type] = torch.utils.data.DataLoader(datasets[dset_type], batch_size=batchSize, shuffle=False, num_workers=4, pin_memory=True)\n",
    "    print('Finished loading %s dataset: %s samples' % (dset_type, len(datasets[dset_type])))"
   ]
  },
  {
   "cell_type": "code",
   "execution_count": 19,
   "metadata": {
    "id": "aKUqRuH3iZrP"
   },
   "outputs": [],
   "source": [
    "def get_model(num_classes):\n",
    "\n",
    "#     model = models.mobilenet_v2(pretrained=True)\n",
    "#     model.classifier = nn.Sequential(nn.Dropout(p=0.2), nn.Linear(1280, num_classes))\n",
    "    \n",
    "    model = models.resnet50(pretrained=True)\n",
    "    num_ftrs = model.fc.in_features\n",
    "    model.classifier = nn.Sequential(nn.Dropout(p=0.2), nn.Linear(num_ftrs, num_classes))\n",
    "    \n",
    "    return model"
   ]
  },
  {
   "cell_type": "code",
   "execution_count": 20,
   "metadata": {
    "id": "feNDFwaXiZrP"
   },
   "outputs": [],
   "source": [
    "def train_model(model, loaders, criterion, optimizer, scheduler, num_epochs=40, estop=5):\n",
    "    since = time.time()\n",
    "\n",
    "    best_model_wts = copy.deepcopy(model.state_dict())\n",
    "    best_acc = 0.0\n",
    "    best_loss = float(\"inf\")\n",
    "    counter = 0\n",
    "\n",
    "    for epoch in range(num_epochs):\n",
    "        print('Epoch {}/{}'.format(epoch, num_epochs - 1))\n",
    "        print('-' * 10)\n",
    "        \n",
    "        for phase in ['train', 'val']:\n",
    "            if phase == 'train':\n",
    "                model.train()\n",
    "            else:\n",
    "                model.eval()\n",
    "\n",
    "            running_loss = 0.0\n",
    "            running_corrects = 0.0\n",
    "\n",
    "            for inputs, labels in loaders[phase]:\n",
    "                inputs = inputs.to(device)\n",
    "                labels = labels.to(device)\n",
    "\n",
    "                optimizer.zero_grad()\n",
    "                \n",
    "                with torch.set_grad_enabled(phase == 'train'):\n",
    "                    outputs = model(inputs)\n",
    "                    _, preds = torch.max(outputs, 1)\n",
    "                    loss = criterion(outputs, labels)\n",
    "\n",
    "                    if phase == 'train':\n",
    "                        loss.backward()\n",
    "                        optimizer.step()\n",
    "\n",
    "                running_loss += loss.item() * inputs.size(0)\n",
    "                running_corrects += torch.sum(preds == labels.data)\n",
    "\n",
    "                ##########\n",
    "                \n",
    "#             while True:\n",
    "#                 try:\n",
    "#                     inputs, labels = next(loaders[phase])\n",
    "\n",
    "#                     inputs = inputs.to(device)\n",
    "#                     labels = labels.to(device)\n",
    "\n",
    "#                     optimizer.zero_grad()\n",
    "\n",
    "#                     with torch.set_grad_enabled(phase == 'train'):\n",
    "#                         outputs = model(inputs)\n",
    "#                         _, preds = torch.max(outputs, 1)\n",
    "#                         loss = criterion(outputs, labels)\n",
    "\n",
    "#                         if phase == 'train':\n",
    "#                             loss.backward()\n",
    "#                             optimizer.step()\n",
    "\n",
    "#                     running_loss += loss.item() * inputs.size(0)\n",
    "#                     running_corrects += torch.sum(preds == labels.data)\n",
    "                \n",
    "#                 except:\n",
    "#                     pass\n",
    "\n",
    "            epoch_loss = running_loss / dataset_sizes[phase]\n",
    "            epoch_acc = running_corrects.double() / dataset_sizes[phase]\n",
    "\n",
    "            print('{} Loss: {:.4f} Acc: {:.4f}'.format(phase, epoch_loss, epoch_acc))\n",
    "\n",
    "            if phase == 'val':\n",
    "                if scheduler is not None:\n",
    "                    scheduler.step(epoch_loss)\n",
    "                    \n",
    "                if epoch_loss < best_loss:\n",
    "                    best_epoch = epoch\n",
    "                    best_loss = epoch_loss\n",
    "                    best_acc = epoch_acc\n",
    "                    best_model_wts = copy.deepcopy(model.state_dict())\n",
    "                    counter = 0\n",
    "                else:\n",
    "                    counter += 1\n",
    "\n",
    "        print()\n",
    "\n",
    "        if counter >= estop:\n",
    "            break\n",
    "\n",
    "    time_elapsed = time.time() - since\n",
    "    print('Training complete in {:.0f}m {:.0f}s'.format(time_elapsed // 60, time_elapsed % 60))\n",
    "    print('Best val Acc: {:4f}'.format(best_acc))\n",
    "    print('Best val Loss: {:4f}'.format(best_loss))\n",
    "\n",
    "    model.load_state_dict(best_model_wts)\n",
    "\n",
    "    return model, best_loss, best_acc, best_epoch"
   ]
  },
  {
   "cell_type": "code",
   "execution_count": 21,
   "metadata": {
    "id": "PX8AwkhliZrP"
   },
   "outputs": [],
   "source": [
    "import warnings\n",
    "warnings.simplefilter(action='ignore', category=RuntimeWarning)"
   ]
  },
  {
   "cell_type": "code",
   "execution_count": null,
   "metadata": {
    "id": "BdQApa1uiZrQ",
    "outputId": "57ba8bf2-d614-452b-93a8-bc7364888b40",
    "scrolled": false
   },
   "outputs": [
    {
     "name": "stdout",
     "output_type": "stream",
     "text": [
      "Epoch 0/39\n",
      "----------\n"
     ]
    }
   ],
   "source": [
    "model = get_model(num_classes)\n",
    "model = model.to('cuda')\n",
    "\n",
    "params_to_update = []\n",
    "for name, param in model.named_parameters():\n",
    "    if param.requires_grad == True:\n",
    "        params_to_update.append(param)\n",
    "\n",
    "optimizer = optim.SGD(params_to_update, lr=0.004, momentum=0.9, nesterov=True)\n",
    "criterion = nn.CrossEntropyLoss()\n",
    "\n",
    "dataset_sizes = {x: len(datasets[x]) for x in ['train', 'val', 'test']}\n",
    "device = torch.device(\"cuda\" if torch.cuda.is_available() else \"cpu\")\n",
    "\n",
    "model, best_loss, best_acc, best_epoch = \\\n",
    "    train_model(model, loaders, criterion, optimizer, scheduler=None, num_epochs=40, estop=5)\n",
    "torch.save(model.state_dict(), 'state_dicts/wilds_stain_augmentation_res50_modSplit3.pth')"
   ]
  },
  {
   "cell_type": "code",
   "execution_count": null,
   "metadata": {
    "id": "LckUx0vsiZrQ"
   },
   "outputs": [],
   "source": [
    "warnings.filterwarnings('default')"
   ]
  },
  {
   "cell_type": "code",
   "execution_count": null,
   "metadata": {
    "id": "e7dyuKrNiZrQ"
   },
   "outputs": [],
   "source": [
    "def test_model(model, loader, dataset_size, criterion):\n",
    "    \n",
    "    print('-' * 10)\n",
    "    model.eval()\n",
    "    running_loss = 0.0\n",
    "    running_corrects = 0\n",
    "    whole_probs = torch.FloatTensor(dataset_size)\n",
    "    whole_labels = torch.LongTensor(dataset_size)\n",
    "    \n",
    "    with torch.no_grad():\n",
    "\n",
    "        # Iterate over data.\n",
    "        for i, data in enumerate(loader):\n",
    "            inputs = data[0].to(device)\n",
    "            labels = data[1].to(device)\n",
    "\n",
    "            # forward\n",
    "            outputs = model(inputs)\n",
    "            _, preds = torch.max(outputs, 1)\n",
    "            loss = criterion(outputs, labels)\n",
    "\n",
    "            # statistics\n",
    "            running_loss += loss.item() * inputs.size(0)\n",
    "            running_corrects += torch.sum(preds == labels.data)\n",
    "\n",
    "            outputs = F.softmax(outputs, dim=1)\n",
    "            whole_probs[i*batchSize:i*batchSize+inputs.size(0)]=outputs.detach()[:,1].clone()\n",
    "            whole_labels[i*batchSize:i*batchSize+inputs.size(0)]=labels.detach().clone()\n",
    "\n",
    "        total_loss = running_loss / dataset_size\n",
    "        total_acc = running_corrects.double() / dataset_size\n",
    "\n",
    "    print('Test Loss: {:.4f} Acc: {:.4f}'.format(total_loss, total_acc))\n",
    "\n",
    "    return whole_probs.cpu().numpy(), whole_labels.cpu().numpy(), total_loss, total_acc"
   ]
  },
  {
   "cell_type": "code",
   "execution_count": null,
   "metadata": {
    "id": "_Uu-sYmMiZrQ"
   },
   "outputs": [],
   "source": [
    "from sklearn.metrics import accuracy_score\n",
    "from sklearn.metrics import confusion_matrix\n",
    "import itertools\n",
    "from sklearn.metrics import roc_curve, auc, roc_auc_score"
   ]
  },
  {
   "cell_type": "code",
   "execution_count": null,
   "metadata": {
    "id": "afgl46dKiZrR"
   },
   "outputs": [],
   "source": [
    "from sklearn.metrics import roc_auc_score\n",
    "def bootstrap_auc(y_true, y_pred, n_bootstraps=1000, rng_seed=42):\n",
    "    n_bootstraps = n_bootstraps\n",
    "    rng_seed = rng_seed  # control reproducibility\n",
    "    bootstrapped_scores = []\n",
    "\n",
    "    rng = np.random.RandomState(rng_seed)\n",
    "    for i in range(n_bootstraps):\n",
    "        # bootstrap by sampling with replacement on the prediction indices\n",
    "        indices = rng.randint(len(y_pred), size=len(y_pred))\n",
    "        if len(np.unique(y_true[indices])) < 2:\n",
    "            # We need at least one positive and one negative sample for ROC AUC\n",
    "            # to be defined: reject the sample\n",
    "            continue\n",
    "        score = roc_auc_score(y_true[indices], y_pred[indices])\n",
    "        bootstrapped_scores.append(score)\n",
    "#         print(\"Bootstrap #{} ROC area: {:0.3f}\".format(i + 1, score))\n",
    "    bootstrapped_scores = np.array(bootstrapped_scores)\n",
    "\n",
    "    print(\"Confidence interval for the score: [{:0.3f} - {:0.3}]\".format(\n",
    "        np.percentile(bootstrapped_scores, (2.5, 97.5))[0], np.percentile(bootstrapped_scores, (2.5, 97.5))[1]))\n",
    "    \n",
    "    return np.percentile(bootstrapped_scores, (2.5, 97.5))[0], np.percentile(bootstrapped_scores, (2.5, 97.5))[1]"
   ]
  },
  {
   "cell_type": "code",
   "execution_count": null,
   "metadata": {
    "id": "gfQ7SLhciZrR"
   },
   "outputs": [],
   "source": [
    "def plot_confusion_matrix(cm, classes,\n",
    "                          normalize=False,\n",
    "                          title='Confusion matrix',\n",
    "                          cmap=plt.cm.Blues):\n",
    "    \"\"\"\n",
    "    This function prints and plots the confusion matrix.\n",
    "    Normalization can be applied by setting `normalize=True`.\n",
    "    \"\"\"\n",
    "    if normalize:\n",
    "        cm = cm.astype('float') / cm.sum(axis=1)[:, np.newaxis]\n",
    "        print(\"Normalized confusion matrix\")\n",
    "    else:\n",
    "        print('Confusion matrix')\n",
    "\n",
    "    print(cm)\n",
    "\n",
    "    plt.imshow(cm, interpolation='nearest', cmap=cmap)\n",
    "    plt.title(title)\n",
    "    plt.colorbar()\n",
    "    tick_marks = np.arange(len(classes))\n",
    "    plt.xticks(tick_marks, classes, rotation=45)\n",
    "    plt.yticks(tick_marks, classes)\n",
    "\n",
    "    fmt = '.2f' if normalize else 'd'\n",
    "    thresh = cm.max() / 1.5\n",
    "    for i, j in itertools.product(range(cm.shape[0]), range(cm.shape[1])):\n",
    "        plt.text(j, i, format(cm[i, j], fmt),\n",
    "                 horizontalalignment=\"center\",\n",
    "                 color=\"white\" if cm[i, j] > thresh else \"black\")\n",
    "\n",
    "    plt.tight_layout()\n",
    "    plt.ylabel('True label')\n",
    "    plt.xlabel('Predicted label')"
   ]
  },
  {
   "cell_type": "code",
   "execution_count": null,
   "metadata": {
    "id": "g8lwdGhniZrR",
    "outputId": "7385efbd-1952-449f-f290-eafbbc136500"
   },
   "outputs": [
    {
     "name": "stdout",
     "output_type": "stream",
     "text": [
      "----------\n",
      "Test Loss: 0.7720 Acc: 0.8329\n"
     ]
    }
   ],
   "source": [
    "prob_test, label_test, loss_test, acc_test = test_model(model, loaders['test'], dataset_sizes['test'], criterion)"
   ]
  },
  {
   "cell_type": "code",
   "execution_count": null,
   "metadata": {
    "id": "oeRS81ayiZrR"
   },
   "outputs": [],
   "source": [
    "pred_test = [1 if prob>0.50 else 0 for prob in prob_test]"
   ]
  },
  {
   "cell_type": "code",
   "execution_count": null,
   "metadata": {
    "id": "NjYV35FGiZrR",
    "outputId": "e7747d21-edd6-4417-9e62-b4959a6c7f32"
   },
   "outputs": [
    {
     "name": "stdout",
     "output_type": "stream",
     "text": [
      "[[41801   726]\n",
      " [13488 29039]]\n",
      "accuracy = 83.28826392644673\n"
     ]
    }
   ],
   "source": [
    "cm = confusion_matrix(label_test, pred_test)\n",
    "print(cm)\n",
    "acc = (cm[0][0]+cm[1][1])/len(pred_test)*100\n",
    "print('accuracy = ' + str(acc))"
   ]
  },
  {
   "cell_type": "code",
   "execution_count": null,
   "metadata": {
    "id": "OaDOaUxWiZrR",
    "outputId": "8eaf8ea4-4689-49da-ff8a-1ce04bbe586e"
   },
   "outputs": [
    {
     "name": "stdout",
     "output_type": "stream",
     "text": [
      "tile-wise AUC is 0.9157020986224673\n"
     ]
    }
   ],
   "source": [
    "print(f'tile-wise AUC is {roc_auc_score(label_test, prob_test)}')"
   ]
  },
  {
   "cell_type": "code",
   "execution_count": null,
   "metadata": {
    "id": "yZ2xBtOBiZrS",
    "outputId": "cd81b321-336f-4c73-abac-2752073bb981"
   },
   "outputs": [
    {
     "name": "stdout",
     "output_type": "stream",
     "text": [
      "Confidence interval for the score: [0.914 - 0.917]\n",
      "AUROC = 0.9157020986224673 with 95CI of 0.9137769694044875-0.9174279748540592\n"
     ]
    }
   ],
   "source": [
    "false_positive_rate, true_positive_rate, thresholds = roc_curve(label_test, prob_test)\n",
    "roc_auc = auc(false_positive_rate, true_positive_rate)\n",
    "ci_low, ci_high = bootstrap_auc(np.array(label_test), np.array(prob_test))\n",
    "print(f'AUROC = {roc_auc} with 95CI of {ci_low}-{ci_high}')"
   ]
  },
  {
   "cell_type": "code",
   "execution_count": null,
   "metadata": {
    "id": "iorkY4vpiZrS",
    "outputId": "f91c3ffd-bafc-4e76-ca80-2cf3d4a5a2f7"
   },
   "outputs": [
    {
     "name": "stdout",
     "output_type": "stream",
     "text": [
      "Confusion matrix\n",
      "[[41801   726]\n",
      " [13488 29039]]\n"
     ]
    },
    {
     "data": {
      "image/png": "[encoded data removed]",
      "text/plain": [
       "<Figure size 432x288 with 2 Axes>"
      ]
     },
     "metadata": {
      "needs_background": "light",
      "tags": []
     },
     "output_type": "display_data"
    }
   ],
   "source": [
    "plot_confusion_matrix(cm, classes=[\"normal\", \"tumor\"])"
   ]
  },
  {
   "cell_type": "code",
   "execution_count": null,
   "metadata": {
    "id": "pzL61qvIiZrS",
    "outputId": "cb7fc8f0-ab01-4fc5-f369-624d987c2140"
   },
   "outputs": [
    {
     "data": {
      "image/png": "[encoded data removed]",
      "text/plain": [
       "<Figure size 432x288 with 1 Axes>"
      ]
     },
     "metadata": {
      "needs_background": "light",
      "tags": []
     },
     "output_type": "display_data"
    }
   ],
   "source": [
    "plt.title(\"Receiver Operating Characteristic\")\n",
    "plt.plot(false_positive_rate, true_positive_rate, color=\"teal\", label=\"AUC = %0.2f\" % roc_auc)\n",
    "plt.legend(loc=\"lower right\")\n",
    "plt.plot([0,1],[0,1], color=\"lightcoral\", ls=\"--\")\n",
    "plt.xlim([-0.1, 1.2])\n",
    "plt.ylim([-0.1, 1.2])\n",
    "plt.ylabel(\"True Positive Rate\")\n",
    "plt.xlabel(\"False Positive Rate\")\n",
    "plt.show()"
   ]
  },
  {
   "cell_type": "code",
   "execution_count": null,
   "metadata": {
    "id": "Y-nkPRDEiZrS"
   },
   "outputs": [],
   "source": []
  },
  {
   "cell_type": "code",
   "execution_count": null,
   "metadata": {
    "id": "L_XfCP3EiZrS"
   },
   "outputs": [],
   "source": []
  },
  {
   "cell_type": "code",
   "execution_count": null,
   "metadata": {
    "id": "BfY5SuaviZrS"
   },
   "outputs": [],
   "source": []
  },
  {
   "cell_type": "code",
   "execution_count": null,
   "metadata": {
    "id": "TKFwPX4tiZrS"
   },
   "outputs": [],
   "source": []
  },
  {
   "cell_type": "code",
   "execution_count": null,
   "metadata": {
    "id": "0YYyZiieiZrS"
   },
   "outputs": [],
   "source": []
  },
  {
   "cell_type": "code",
   "execution_count": null,
   "metadata": {
    "id": "J7FDlstQiZrS"
   },
   "outputs": [],
   "source": [
    "# to get all probs"
   ]
  },
  {
   "cell_type": "code",
   "execution_count": null,
   "metadata": {
    "id": "KgQd0tOLiZrT"
   },
   "outputs": [],
   "source": [
    "# model2 = models.mobilenet_v2(pretrained=True)\n",
    "# model2.classifier = nn.Sequential(nn.Dropout(p=0.2), nn.Linear(1280, num_classes))\n",
    "# device = torch.device('cuda' if torch.cuda.is_available() else 'cpu')\n",
    "# model2.cuda()\n",
    "# model_path = 'msi_pytorch2_stainAug_trainOnNatmed_unfreezeAll_sgdlr4e-3_epoch30_estop5_2.pth'\n",
    "# state_dict = torch.load(model_path)\n",
    "# model2.load_state_dict(state_dict)"
   ]
  },
  {
   "cell_type": "code",
   "execution_count": null,
   "metadata": {
    "id": "DFhTxHUoiZrT"
   },
   "outputs": [],
   "source": [
    "# augment = transforms.Compose([# transforms.ToPILImage(),\n",
    "#                               # transforms.Resize(imgSize),\n",
    "#                               transforms.RandomResizedCrop(imgSize),\n",
    "#                               transforms.RandomHorizontalFlip(p=0.5),\n",
    "#                               transforms.RandomVerticalFlip(p=0.5),\n",
    "#                               # transforms.RandomResizedCrop(imgSize, scale=(0.8, 1.0), ratio=(1, 1)),\n",
    "#                               transforms.ToTensor(),\n",
    "#                               transforms.Normalize([0.485, 0.456, 0.406], [0.229, 0.224, 0.225])])\n",
    "\n",
    "# transform = transforms.Compose([# transforms.ToPILImage(),\n",
    "#                                 transforms.Resize(imgSize),\n",
    "#                                 transforms.ToTensor(),\n",
    "#                                 transforms.Normalize([0.485, 0.456, 0.406], [0.229, 0.224, 0.225])])"
   ]
  },
  {
   "cell_type": "code",
   "execution_count": null,
   "metadata": {
    "id": "EFDZSfuIiZrT"
   },
   "outputs": [],
   "source": [
    "# class ImageFolderWithPaths(dset.ImageFolder):\n",
    "#     \"\"\"Custom dataset that includes image file paths. Extends\n",
    "#     torchvision.datasets.ImageFolder\n",
    "#     \"\"\"\n",
    "#     # override the __getitem__ method. this is the method that dataloader calls\n",
    "#     def __getitem__(self, index):\n",
    "#         # this is what ImageFolder normally returns \n",
    "#         original_tuple = super(ImageFolderWithPaths, self).__getitem__(index)\n",
    "#         # the image file path\n",
    "#         path = self.imgs[index][0]\n",
    "#         # make a new tuple that includes original and the path\n",
    "#         tuple_with_path = (original_tuple + (path,))\n",
    "#         return tuple_with_path"
   ]
  },
  {
   "cell_type": "code",
   "execution_count": null,
   "metadata": {
    "id": "ulvOlJWTiZrV"
   },
   "outputs": [],
   "source": [
    "# def train_data_():\n",
    "#     data_path = '../data/naturemed/mssmsi/TRAIN'\n",
    "#     train_dataset = ImageFolderWithPaths(\n",
    "#         root=data_path,\n",
    "#         transform=augment,\n",
    "#     )\n",
    "#     train_loader = torch.utils.data.DataLoader(\n",
    "#         train_dataset,\n",
    "#         batch_size=64,\n",
    "# #         num_workers=0,\n",
    "#         shuffle=True,\n",
    "#     )\n",
    "#     return train_dataset, train_loader"
   ]
  },
  {
   "cell_type": "code",
   "execution_count": null,
   "metadata": {
    "id": "jW2OPodNiZrV"
   },
   "outputs": [],
   "source": [
    "# def test_data():\n",
    "#     data_path = '../data/naturemed/mssmsi/TEST'\n",
    "#     test_dataset = ImageFolderWithPaths(\n",
    "#         root=data_path,\n",
    "#         transform=transform,\n",
    "#     )\n",
    "#     test_loader = torch.utils.data.DataLoader(\n",
    "#         test_dataset,\n",
    "#         batch_size=2,\n",
    "# #         num_workers=0,\n",
    "#         shuffle=False,\n",
    "#     )\n",
    "#     return test_dataset, test_loader"
   ]
  },
  {
   "cell_type": "code",
   "execution_count": null,
   "metadata": {
    "id": "w1ur8JBdiZrW"
   },
   "outputs": [],
   "source": [
    "# test_dataset, test_loader = test_data()"
   ]
  },
  {
   "cell_type": "code",
   "execution_count": null,
   "metadata": {
    "id": "R0WqHQUBiZrW"
   },
   "outputs": [],
   "source": [
    "# test_dataset_size = len(test_dataset)"
   ]
  },
  {
   "cell_type": "code",
   "execution_count": null,
   "metadata": {
    "id": "n6HYRL0LiZrW"
   },
   "outputs": [],
   "source": [
    "# criterion = nn.CrossEntropyLoss()\n",
    "# sm = nn.Softmax(dim = 1)\n",
    "# def test(model, dataloader, dataset_size):\n",
    "#     running_corrects = 0\n",
    "#     running_loss=0\n",
    "#     pred = []\n",
    "#     true = []\n",
    "#     pred_wrong = []\n",
    "#     true_wrong = []\n",
    "#     image = []\n",
    "#     paths = []\n",
    "#     prob = []\n",
    "\n",
    "#     for batch_idx, (data, target, path) in enumerate(dataloader):\n",
    "#         data, target = data.to(device), target.to(device)\n",
    "#         data = data.type(torch.cuda.FloatTensor)\n",
    "#         target = target.type(torch.cuda.LongTensor)\n",
    "#         model.eval()\n",
    "#         output = model(data)\n",
    "#         loss = criterion(output, target)\n",
    "#         output = sm(output)\n",
    "#         _, preds = torch.max(output, 1)\n",
    "#         running_corrects += torch.sum(preds == target.data)\n",
    "#         running_loss += loss.item() * data.size(0)\n",
    "#         preds = preds.cpu().numpy()\n",
    "#         target = target.cpu().numpy()\n",
    "#         probs = output.detach().cpu().numpy()[:,1]\n",
    "#         preds = np.reshape(preds,(len(preds),1))\n",
    "#         target = np.reshape(target,(len(preds),1))\n",
    "#         data = data.cpu().numpy()\n",
    "\n",
    "#         for i in range(len(preds)):\n",
    "#             pred.append(preds[i])\n",
    "#             true.append(target[i])\n",
    "#             prob.append(probs[i])\n",
    "#             paths.append(path[i])\n",
    "#             if(preds[i]!=target[i]):\n",
    "#                 pred_wrong.append(preds[i])\n",
    "#                 true_wrong.append(target[i])\n",
    "#                 image.append(data[i])\n",
    "\n",
    "#     epoch_acc = running_corrects.double()/dataset_size\n",
    "#     epoch_loss = running_loss/dataset_size\n",
    "#     print(epoch_acc,epoch_loss)\n",
    "#     return true,pred,prob,paths,image,true_wrong,pred_wrong"
   ]
  },
  {
   "cell_type": "code",
   "execution_count": null,
   "metadata": {
    "id": "njYtDhs9iZrW"
   },
   "outputs": [],
   "source": [
    "# true_,pred_,prob_,paths_,image_,true_wrong_,pred_wrong_ = test(model2, test_loader, test_dataset_size)"
   ]
  },
  {
   "cell_type": "code",
   "execution_count": null,
   "metadata": {
    "id": "AQIWvGFwiZrW"
   },
   "outputs": [],
   "source": [
    "# slides_ = ['-'.join(os.path.basename(i).split('-')[2:5]) for i in paths_]"
   ]
  },
  {
   "cell_type": "code",
   "execution_count": null,
   "metadata": {
    "id": "LbXoNuiaiZrW"
   },
   "outputs": [],
   "source": [
    "# unique = list(set(slides_))"
   ]
  },
  {
   "cell_type": "code",
   "execution_count": null,
   "metadata": {
    "id": "h93BEsh3iZrW"
   },
   "outputs": [],
   "source": [
    "# df = pd.DataFrame(columns=['id', 'prob', 'pred', 'label'])"
   ]
  },
  {
   "cell_type": "code",
   "execution_count": null,
   "metadata": {
    "id": "5Ap_AXnwiZrW"
   },
   "outputs": [],
   "source": [
    "# df.id = slides_\n",
    "# df.prob = prob_\n",
    "# df.pred = [i[0] for i in pred_]\n",
    "# df.label = [i[0] for i in true_]"
   ]
  },
  {
   "cell_type": "code",
   "execution_count": null,
   "metadata": {
    "id": "DPUIqH1HiZrW"
   },
   "outputs": [],
   "source": [
    "# pt_prob=[]\n",
    "# pt_pred=[]\n",
    "# pt_label=[]\n",
    "# for i in range(len(unique)):\n",
    "#     ave_prob=np.mean(df[df.id==unique[i]].prob.values)\n",
    "#     s=1 if ave_prob>0.76 else 0\n",
    "#     y=df[df.id==unique[i]].label.values.tolist()[0]\n",
    "#     pt_prob.append(ave_prob)\n",
    "#     pt_pred.append(s)\n",
    "#     pt_label.append(y)"
   ]
  },
  {
   "cell_type": "code",
   "execution_count": null,
   "metadata": {
    "id": "CVM1YNEkiZrW"
   },
   "outputs": [],
   "source": [
    "# df = pd.DataFrame(columns=['id', 'prob', 'pred', 'label'])\n",
    "# df.id = unique\n",
    "# df.prob = pt_prob\n",
    "# df.pred = pt_pred\n",
    "# df.label = pt_label"
   ]
  },
  {
   "cell_type": "code",
   "execution_count": null,
   "metadata": {
    "id": "G3T3lwyRiZrW"
   },
   "outputs": [],
   "source": [
    "# df.to_csv('../data/stainAug_trainOnNatmed_testOnNatmed_probs.csv', index=False)"
   ]
  },
  {
   "cell_type": "code",
   "execution_count": null,
   "metadata": {
    "id": "8v9ikfMHiZrX"
   },
   "outputs": [],
   "source": [
    "# df"
   ]
  },
  {
   "cell_type": "code",
   "execution_count": null,
   "metadata": {
    "id": "XzpHNSgNiZrX"
   },
   "outputs": [],
   "source": []
  }
 ],
 "metadata": {
  "colab": {
   "name": "wilds_stainAug_res50_toshare_chaeyoung.ipynb",
   "provenance": []
  },
  "kernelspec": {
   "display_name": "Python 3",
   "language": "python",
   "name": "python3"
  },
  "language_info": {
   "codemirror_mode": {
    "name": "ipython",
    "version": 3
   },
   "file_extension": ".py",
   "mimetype": "text/x-python",
   "name": "python",
   "nbconvert_exporter": "python",
   "pygments_lexer": "ipython3",
   "version": "3.6.10"
  }
 },
 "nbformat": 4,
 "nbformat_minor": 1
}
