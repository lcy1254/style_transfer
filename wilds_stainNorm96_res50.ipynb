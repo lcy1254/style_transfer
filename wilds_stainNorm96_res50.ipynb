{
 "cells": [
  {
   "cell_type": "code",
   "execution_count": 1,
   "metadata": {
    "id": "v0DUvAMpiXlf",
    "outputId": "a1c09e63-2fdc-49af-fd73-fd02b5fa6446"
   },
   "outputs": [
    {
     "name": "stdout",
     "output_type": "stream",
     "text": [
      "/home/lcy/anaconda3/envs/strap/bin/jupyter\r\n"
     ]
    }
   ],
   "source": [
    "!which jupyter"
   ]
  },
  {
   "cell_type": "code",
   "execution_count": 2,
   "metadata": {
    "id": "j4sfbppeiXli",
    "outputId": "0ee8753b-ffcd-4d31-90e8-2914c67a4f15"
   },
   "outputs": [
    {
     "name": "stdout",
     "output_type": "stream",
     "text": [
      "Sun Jul 25 12:23:20 2021       \n",
      "+-----------------------------------------------------------------------------+\n",
      "| NVIDIA-SMI 460.32.03    Driver Version: 460.32.03    CUDA Version: 11.2     |\n",
      "|-------------------------------+----------------------+----------------------+\n",
      "| GPU  Name        Persistence-M| Bus-Id        Disp.A | Volatile Uncorr. ECC |\n",
      "| Fan  Temp  Perf  Pwr:Usage/Cap|         Memory-Usage | GPU-Util  Compute M. |\n",
      "|                               |                      |               MIG M. |\n",
      "|===============================+======================+======================|\n",
      "|   0  GeForce GTX 108...  On   | 00000000:02:00.0 Off |                  N/A |\n",
      "| 47%   72C    P2   286W / 270W |   1631MiB / 11178MiB |     65%      Default |\n",
      "|                               |                      |                  N/A |\n",
      "+-------------------------------+----------------------+----------------------+\n",
      "|   1  GeForce GTX 108...  On   | 00000000:03:00.0 Off |                  N/A |\n",
      "| 22%   83C    P2   114W / 270W |   1976MiB / 11175MiB |     85%      Default |\n",
      "|                               |                      |                  N/A |\n",
      "+-------------------------------+----------------------+----------------------+\n",
      "                                                                               \n",
      "+-----------------------------------------------------------------------------+\n",
      "| Processes:                                                                  |\n",
      "|  GPU   GI   CI        PID   Type   Process name                  GPU Memory |\n",
      "|        ID   ID                                                   Usage      |\n",
      "|=============================================================================|\n",
      "|    0   N/A  N/A     27815      C   ...da3/envs/strap/bin/python     1627MiB |\n",
      "|    1   N/A  N/A      1255      G   /usr/lib/xorg/Xorg                 39MiB |\n",
      "|    1   N/A  N/A      1485      G   /usr/bin/gnome-shell               26MiB |\n",
      "|    1   N/A  N/A     15009      C   ...da3/envs/strap/bin/python     1905MiB |\n",
      "+-----------------------------------------------------------------------------+\n"
     ]
    }
   ],
   "source": [
    "!nvidia-smi"
   ]
  },
  {
   "cell_type": "code",
   "execution_count": 3,
   "metadata": {
    "id": "bh7TLWpAiXlj"
   },
   "outputs": [],
   "source": [
    "import os\n",
    "os.environ[\"CUDA_DEVICE_ORDER\"] = \"PCI_BUS_ID\" \n",
    "os.environ[\"CUDA_VISIBLE_DEVICES\"] = \"1\""
   ]
  },
  {
   "cell_type": "code",
   "execution_count": 4,
   "metadata": {
    "id": "L4vvVkp3iXlk"
   },
   "outputs": [],
   "source": [
    "import os, glob, json\n",
    "import time\n",
    "import numpy as np\n",
    "import pandas as pd\n",
    "import h5py\n",
    "from PIL import Image\n",
    "import random\n",
    "from random import shuffle\n",
    "import copy\n",
    "import pickle\n",
    "from math import ceil\n",
    "import matplotlib.pyplot as plt\n",
    "%matplotlib inline"
   ]
  },
  {
   "cell_type": "code",
   "execution_count": 5,
   "metadata": {
    "id": "PBRkoyeliXlk"
   },
   "outputs": [],
   "source": [
    "import torch\n",
    "import torch.nn as nn\n",
    "import torch.nn.functional as F\n",
    "import torch.nn.parallel\n",
    "import torch.backends.cudnn as cudnn\n",
    "import torch.optim as optim\n",
    "import torch.utils.data\n",
    "import torch.utils.data as data\n",
    "import torchvision.datasets as dset\n",
    "import torchvision.transforms as transforms\n",
    "import torchvision.utils as vutils\n",
    "import torchvision.models as models\n",
    "import torch.nn.init as init"
   ]
  },
  {
   "cell_type": "code",
   "execution_count": 6,
   "metadata": {
    "id": "G0ruZ_NYiXlk"
   },
   "outputs": [],
   "source": [
    "batchSize=32\n",
    "imgSize=int(96)\n",
    "num_classes = 2"
   ]
  },
  {
   "cell_type": "code",
   "execution_count": 7,
   "metadata": {
    "id": "nR9St-oBiXll"
   },
   "outputs": [],
   "source": [
    "import staintools"
   ]
  },
  {
   "cell_type": "code",
   "execution_count": 8,
   "metadata": {
    "id": "65yqQ7tjiXll"
   },
   "outputs": [],
   "source": [
    "def get_stain_normalizer(path='/media/dnr/data_crypt/cy_strap/ref.png', method='macenko'):\n",
    "    target = staintools.read_image(path)\n",
    "    target = staintools.LuminosityStandardizer.standardize(target)\n",
    "    normalizer = staintools.StainNormalizer(method=method)\n",
    "    normalizer.fit(target)\n",
    "    return normalizer"
   ]
  },
  {
   "cell_type": "code",
   "execution_count": 9,
   "metadata": {
    "id": "ybPeZOgiiXlm",
    "outputId": "8c3b9cce-12f4-469a-96c7-01224237cd74"
   },
   "outputs": [
    {
     "data": {
      "text/plain": [
       "(96, 96, 3)"
      ]
     },
     "execution_count": 9,
     "metadata": {},
     "output_type": "execute_result"
    }
   ],
   "source": [
    "staintools.read_image('/media/dnr/data_crypt/cy_strap/ref.png').shape"
   ]
  },
  {
   "cell_type": "code",
   "execution_count": 10,
   "metadata": {
    "id": "UdCkImceiXlm"
   },
   "outputs": [],
   "source": [
    "def apply_stain_norm(tile, normalizer):\n",
    "    to_transform = np.array(tile).astype('uint8')\n",
    "    to_transform = staintools.LuminosityStandardizer.standardize(to_transform)\n",
    "    transformed = normalizer.transform(to_transform)\n",
    "#     transformed = Image.fromarray(transformed)\n",
    "    return transformed"
   ]
  },
  {
   "cell_type": "code",
   "execution_count": 11,
   "metadata": {
    "id": "B55vmn7qiXln"
   },
   "outputs": [],
   "source": [
    "class stain_norm(object):\n",
    "    def __call__(self, sample):\n",
    "        sample = np.array(sample)\n",
    "        normalizer = get_stain_normalizer()\n",
    "        rgbaug = apply_stain_norm(sample, normalizer)\n",
    "        return rgbaug"
   ]
  },
  {
   "cell_type": "code",
   "execution_count": 12,
   "metadata": {
    "id": "8OgszZN3iXln"
   },
   "outputs": [],
   "source": [
    "augment = transforms.Compose([stain_norm(),\n",
    "                              transforms.ToPILImage(),\n",
    "                              # transforms.Resize(imgSize),\n",
    "                              transforms.RandomResizedCrop(imgSize),\n",
    "                              transforms.RandomHorizontalFlip(p=0.5),\n",
    "                              transforms.RandomVerticalFlip(p=0.5),\n",
    "                              # transforms.RandomResizedCrop(imgSize, scale=(0.8, 1.0), ratio=(1, 1)),\n",
    "                              transforms.ToTensor(),\n",
    "                              transforms.Normalize([0.485, 0.456, 0.406], [0.229, 0.224, 0.225])])\n",
    "\n",
    "transform = transforms.Compose([transforms.ToPILImage(),\n",
    "                                transforms.Resize(imgSize),\n",
    "                                transforms.ToTensor(),\n",
    "                                transforms.Normalize([0.485, 0.456, 0.406], [0.229, 0.224, 0.225])])"
   ]
  },
  {
   "cell_type": "code",
   "execution_count": 13,
   "metadata": {
    "id": "E6mpsjKliXln"
   },
   "outputs": [],
   "source": [
    "data_root_path = '/media/dnr/data_crypt/cy_strap/camelyon17_v1.0/patches'\n",
    "csv_path = '/media/dnr/data_crypt/cy_strap/metadata_fnames_splits_modSplit.csv'"
   ]
  },
  {
   "cell_type": "code",
   "execution_count": 14,
   "metadata": {
    "id": "aMaxd8rniXlo",
    "outputId": "f10c56ff-84a1-48c5-804d-0842b2758bcf"
   },
   "outputs": [
    {
     "data": {
      "text/plain": [
       "(455954,\n",
       " '/media/dnr/data_crypt/cy_strap/camelyon17_v1.0/patches/patient_067_node_4/patch_patient_067_node_4_x_4544_y_30528.png')"
      ]
     },
     "execution_count": 14,
     "metadata": {},
     "output_type": "execute_result"
    }
   ],
   "source": [
    "image_paths = glob.glob(f'{data_root_path}/*/*.png')\n",
    "len(image_paths), image_paths[0]"
   ]
  },
  {
   "cell_type": "code",
   "execution_count": 15,
   "metadata": {
    "id": "lXpQDjVCiXlo",
    "outputId": "570f9289-d493-4064-8b11-40e6acd955a1"
   },
   "outputs": [
    {
     "data": {
      "text/plain": [
       "(455954, 11)"
      ]
     },
     "execution_count": 15,
     "metadata": {},
     "output_type": "execute_result"
    }
   ],
   "source": [
    "df = pd.read_csv(csv_path); df.shape"
   ]
  },
  {
   "cell_type": "code",
   "execution_count": 16,
   "metadata": {
    "id": "qxhn9ORviXlo",
    "outputId": "e470b3df-9947-4f8d-f8b9-368af10be9e5"
   },
   "outputs": [
    {
     "data": {
      "text/html": [
       "<div>\n",
       "<style scoped>\n",
       "    .dataframe tbody tr th:only-of-type {\n",
       "        vertical-align: middle;\n",
       "    }\n",
       "\n",
       "    .dataframe tbody tr th {\n",
       "        vertical-align: top;\n",
       "    }\n",
       "\n",
       "    .dataframe thead th {\n",
       "        text-align: right;\n",
       "    }\n",
       "</style>\n",
       "<table border=\"1\" class=\"dataframe\">\n",
       "  <thead>\n",
       "    <tr style=\"text-align: right;\">\n",
       "      <th></th>\n",
       "      <th>Unnamed: 0</th>\n",
       "      <th>patient</th>\n",
       "      <th>node</th>\n",
       "      <th>x_coord</th>\n",
       "      <th>y_coord</th>\n",
       "      <th>tumor</th>\n",
       "      <th>slide</th>\n",
       "      <th>center</th>\n",
       "      <th>split</th>\n",
       "      <th>fnames</th>\n",
       "      <th>data_split</th>\n",
       "    </tr>\n",
       "  </thead>\n",
       "  <tbody>\n",
       "    <tr>\n",
       "      <th>0</th>\n",
       "      <td>0</td>\n",
       "      <td>4</td>\n",
       "      <td>4</td>\n",
       "      <td>3328</td>\n",
       "      <td>21792</td>\n",
       "      <td>1</td>\n",
       "      <td>0</td>\n",
       "      <td>0</td>\n",
       "      <td>0</td>\n",
       "      <td>../data/patches/patient_004_node_4/patch_patie...</td>\n",
       "      <td>train</td>\n",
       "    </tr>\n",
       "    <tr>\n",
       "      <th>1</th>\n",
       "      <td>1</td>\n",
       "      <td>4</td>\n",
       "      <td>4</td>\n",
       "      <td>3200</td>\n",
       "      <td>22272</td>\n",
       "      <td>1</td>\n",
       "      <td>0</td>\n",
       "      <td>0</td>\n",
       "      <td>0</td>\n",
       "      <td>../data/patches/patient_004_node_4/patch_patie...</td>\n",
       "      <td>train</td>\n",
       "    </tr>\n",
       "    <tr>\n",
       "      <th>2</th>\n",
       "      <td>2</td>\n",
       "      <td>4</td>\n",
       "      <td>4</td>\n",
       "      <td>3168</td>\n",
       "      <td>22272</td>\n",
       "      <td>1</td>\n",
       "      <td>0</td>\n",
       "      <td>0</td>\n",
       "      <td>0</td>\n",
       "      <td>../data/patches/patient_004_node_4/patch_patie...</td>\n",
       "      <td>train</td>\n",
       "    </tr>\n",
       "    <tr>\n",
       "      <th>3</th>\n",
       "      <td>3</td>\n",
       "      <td>4</td>\n",
       "      <td>4</td>\n",
       "      <td>3328</td>\n",
       "      <td>21760</td>\n",
       "      <td>1</td>\n",
       "      <td>0</td>\n",
       "      <td>0</td>\n",
       "      <td>0</td>\n",
       "      <td>../data/patches/patient_004_node_4/patch_patie...</td>\n",
       "      <td>train</td>\n",
       "    </tr>\n",
       "    <tr>\n",
       "      <th>4</th>\n",
       "      <td>4</td>\n",
       "      <td>4</td>\n",
       "      <td>4</td>\n",
       "      <td>3232</td>\n",
       "      <td>22240</td>\n",
       "      <td>1</td>\n",
       "      <td>0</td>\n",
       "      <td>0</td>\n",
       "      <td>0</td>\n",
       "      <td>../data/patches/patient_004_node_4/patch_patie...</td>\n",
       "      <td>train</td>\n",
       "    </tr>\n",
       "  </tbody>\n",
       "</table>\n",
       "</div>"
      ],
      "text/plain": [
       "   Unnamed: 0  patient  node  x_coord  y_coord  tumor  slide  center  split  \\\n",
       "0           0        4     4     3328    21792      1      0       0      0   \n",
       "1           1        4     4     3200    22272      1      0       0      0   \n",
       "2           2        4     4     3168    22272      1      0       0      0   \n",
       "3           3        4     4     3328    21760      1      0       0      0   \n",
       "4           4        4     4     3232    22240      1      0       0      0   \n",
       "\n",
       "                                              fnames data_split  \n",
       "0  ../data/patches/patient_004_node_4/patch_patie...      train  \n",
       "1  ../data/patches/patient_004_node_4/patch_patie...      train  \n",
       "2  ../data/patches/patient_004_node_4/patch_patie...      train  \n",
       "3  ../data/patches/patient_004_node_4/patch_patie...      train  \n",
       "4  ../data/patches/patient_004_node_4/patch_patie...      train  "
      ]
     },
     "execution_count": 16,
     "metadata": {},
     "output_type": "execute_result"
    }
   ],
   "source": [
    "df.head()"
   ]
  },
  {
   "cell_type": "code",
   "execution_count": 17,
   "metadata": {
    "id": "ZD-jflfpiXlp"
   },
   "outputs": [
    {
     "data": {
      "text/plain": [
       "455954"
      ]
     },
     "execution_count": 17,
     "metadata": {},
     "output_type": "execute_result"
    }
   ],
   "source": [
    "fnames = df.fnames.tolist(); len(fnames)"
   ]
  },
  {
   "cell_type": "code",
   "execution_count": 18,
   "metadata": {},
   "outputs": [],
   "source": [
    "filenames = []\n",
    "origin = str('/media/dnr/data_crypt/cy_strap/camelyon17_v1.0')\n",
    "for name in fnames:\n",
    "    temp = str(name[7:])\n",
    "    temp_path = origin + temp\n",
    "    filenames.append(temp_path)"
   ]
  },
  {
   "cell_type": "code",
   "execution_count": 19,
   "metadata": {},
   "outputs": [
    {
     "name": "stdout",
     "output_type": "stream",
     "text": [
      "455954\n"
     ]
    }
   ],
   "source": [
    "print(len(filenames))"
   ]
  },
  {
   "cell_type": "code",
   "execution_count": 20,
   "metadata": {
    "id": "PU3QlSHgiXlp"
   },
   "outputs": [
    {
     "name": "stdout",
     "output_type": "stream",
     "text": [
      "error_201647_Empty tissue mask computed\n"
     ]
    },
    {
     "name": "stderr",
     "output_type": "stream",
     "text": [
      "/home/lcy/anaconda3/envs/strap/lib/python3.6/site-packages/staintools/stain_normalizer.py:41: RuntimeWarning: divide by zero encountered in true_divide\n",
      "  source_concentrations *= (self.maxC_target / maxC_source)\n",
      "/home/lcy/anaconda3/envs/strap/lib/python3.6/site-packages/staintools/stain_normalizer.py:41: RuntimeWarning: invalid value encountered in multiply\n",
      "  source_concentrations *= (self.maxC_target / maxC_source)\n"
     ]
    },
    {
     "name": "stdout",
     "output_type": "stream",
     "text": [
      "error_258105_Empty tissue mask computed\n",
      "error_258248_Empty tissue mask computed\n",
      "error_258387_Empty tissue mask computed\n",
      "error_258417_Empty tissue mask computed\n",
      "error_258532_Empty tissue mask computed\n",
      "error_258729_Empty tissue mask computed\n",
      "error_258855_Empty tissue mask computed\n",
      "error_259055_Empty tissue mask computed\n",
      "error_259195_0-dimensional array given. Array must be at least two-dimensional\n",
      "error_259616_Empty tissue mask computed\n",
      "error_259898_0-dimensional array given. Array must be at least two-dimensional\n",
      "error_260132_Empty tissue mask computed\n",
      "error_260141_Empty tissue mask computed\n",
      "error_260240_Empty tissue mask computed\n",
      "error_260486_Empty tissue mask computed\n",
      "error_260514_Empty tissue mask computed\n",
      "error_260547_Empty tissue mask computed\n",
      "error_261295_Empty tissue mask computed\n",
      "error_261511_Empty tissue mask computed\n",
      "error_261686_Empty tissue mask computed\n",
      "error_261848_Empty tissue mask computed\n",
      "error_261891_Empty tissue mask computed\n",
      "error_262245_Empty tissue mask computed\n",
      "error_262563_0-dimensional array given. Array must be at least two-dimensional\n",
      "error_262643_Empty tissue mask computed\n",
      "error_262750_Empty tissue mask computed\n",
      "error_262773_0-dimensional array given. Array must be at least two-dimensional\n",
      "error_262922_Empty tissue mask computed\n",
      "error_263490_Empty tissue mask computed\n",
      "error_263516_Empty tissue mask computed\n",
      "error_263640_Empty tissue mask computed\n",
      "error_263778_Empty tissue mask computed\n",
      "error_263925_Empty tissue mask computed\n",
      "error_264781_Empty tissue mask computed\n",
      "error_264939_Empty tissue mask computed\n",
      "error_265141_Empty tissue mask computed\n",
      "error_265386_Empty tissue mask computed\n",
      "error_265396_Empty tissue mask computed\n",
      "error_265463_Empty tissue mask computed\n",
      "error_265648_Empty tissue mask computed\n",
      "error_265748_Empty tissue mask computed\n",
      "error_266046_Empty tissue mask computed\n",
      "error_266091_Empty tissue mask computed\n",
      "error_266590_Empty tissue mask computed\n",
      "error_267257_Empty tissue mask computed\n",
      "error_267303_Empty tissue mask computed\n",
      "error_267432_Empty tissue mask computed\n",
      "error_267486_0-dimensional array given. Array must be at least two-dimensional\n",
      "error_267599_Empty tissue mask computed\n",
      "error_267707_Empty tissue mask computed\n",
      "error_267747_Empty tissue mask computed\n",
      "error_267761_Empty tissue mask computed\n",
      "error_267897_Empty tissue mask computed\n",
      "error_268186_Empty tissue mask computed\n",
      "error_268360_Empty tissue mask computed\n",
      "error_268605_Empty tissue mask computed\n",
      "error_269044_Empty tissue mask computed\n",
      "error_269715_Empty tissue mask computed\n",
      "error_269903_0-dimensional array given. Array must be at least two-dimensional\n",
      "error_270019_Empty tissue mask computed\n",
      "error_270025_Empty tissue mask computed\n",
      "error_270055_Empty tissue mask computed\n",
      "error_270563_0-dimensional array given. Array must be at least two-dimensional\n",
      "error_270672_Empty tissue mask computed\n",
      "error_270749_Empty tissue mask computed\n",
      "error_271029_Empty tissue mask computed\n",
      "error_271346_Empty tissue mask computed\n",
      "error_271352_0-dimensional array given. Array must be at least two-dimensional\n",
      "error_271402_Empty tissue mask computed\n",
      "error_271629_Empty tissue mask computed\n",
      "error_271966_Empty tissue mask computed\n",
      "error_272997_Empty tissue mask computed\n",
      "error_273127_Empty tissue mask computed\n",
      "error_273157_Empty tissue mask computed\n",
      "error_273310_Empty tissue mask computed\n",
      "error_273451_0-dimensional array given. Array must be at least two-dimensional\n",
      "error_273479_Empty tissue mask computed\n",
      "error_273849_Empty tissue mask computed\n",
      "error_273956_Empty tissue mask computed\n",
      "error_274075_Empty tissue mask computed\n",
      "error_274194_Empty tissue mask computed\n",
      "error_274444_Empty tissue mask computed\n",
      "error_274512_Empty tissue mask computed\n",
      "error_274534_Empty tissue mask computed\n",
      "error_274625_Empty tissue mask computed\n",
      "error_275004_Empty tissue mask computed\n",
      "error_280991_Empty tissue mask computed\n",
      "error_286523_0-dimensional array given. Array must be at least two-dimensional\n",
      "error_287253_Empty tissue mask computed\n",
      "error_312932_0-dimensional array given. Array must be at least two-dimensional\n",
      "error_318245_Empty tissue mask computed\n",
      "error_322721_Empty tissue mask computed\n",
      "error_326935_Empty tissue mask computed\n",
      "error_329389_Empty tissue mask computed\n",
      "error_330386_Empty tissue mask computed\n",
      "error_343964_0-dimensional array given. Array must be at least two-dimensional\n",
      "error_353871_Empty tissue mask computed\n",
      "error_355103_Empty tissue mask computed\n",
      "error_363871_Empty tissue mask computed\n",
      "error_369596_Empty tissue mask computed\n",
      "error_374604_Empty tissue mask computed\n",
      "error_382375_Empty tissue mask computed\n",
      "error_382734_0-dimensional array given. Array must be at least two-dimensional\n",
      "error_384612_Empty tissue mask computed\n",
      "error_384725_Empty tissue mask computed\n",
      "error_385700_Empty tissue mask computed\n",
      "error_387364_0-dimensional array given. Array must be at least two-dimensional\n",
      "error_388732_Empty tissue mask computed\n",
      "error_390852_Empty tissue mask computed\n",
      "error_391108_Empty tissue mask computed\n",
      "error_391738_Empty tissue mask computed\n",
      "error_392535_Empty tissue mask computed\n",
      "error_392993_Empty tissue mask computed\n",
      "error_393703_Empty tissue mask computed\n",
      "error_395453_Empty tissue mask computed\n",
      "error_395491_Empty tissue mask computed\n",
      "error_396566_Empty tissue mask computed\n",
      "error_396713_Empty tissue mask computed\n",
      "error_396716_Empty tissue mask computed\n",
      "error_397325_Empty tissue mask computed\n",
      "error_397370_Empty tissue mask computed\n",
      "error_397465_Empty tissue mask computed\n",
      "error_398112_Empty tissue mask computed\n",
      "error_399115_Empty tissue mask computed\n",
      "error_400128_Empty tissue mask computed\n",
      "error_400478_Empty tissue mask computed\n",
      "error_401639_Empty tissue mask computed\n",
      "error_402120_Empty tissue mask computed\n",
      "error_402369_Empty tissue mask computed\n",
      "error_402867_Empty tissue mask computed\n",
      "error_403803_Empty tissue mask computed\n",
      "error_404042_Empty tissue mask computed\n",
      "error_404560_Empty tissue mask computed\n",
      "error_404914_Empty tissue mask computed\n",
      "error_405824_Empty tissue mask computed\n",
      "error_406009_0-dimensional array given. Array must be at least two-dimensional\n",
      "error_406706_Empty tissue mask computed\n",
      "error_408176_Empty tissue mask computed\n",
      "error_408795_Empty tissue mask computed\n",
      "error_409540_Empty tissue mask computed\n",
      "error_411310_Empty tissue mask computed\n",
      "error_411486_Empty tissue mask computed\n",
      "error_417778_Empty tissue mask computed\n",
      "error_418578_Empty tissue mask computed\n",
      "error_418851_Empty tissue mask computed\n",
      "error_419208_Empty tissue mask computed\n",
      "error_419428_Empty tissue mask computed\n",
      "error_421771_0-dimensional array given. Array must be at least two-dimensional\n",
      "error_423316_Empty tissue mask computed\n",
      "error_426263_Empty tissue mask computed\n",
      "error_429423_Empty tissue mask computed\n",
      "error_430284_Empty tissue mask computed\n",
      "error_431110_Empty tissue mask computed\n",
      "error_431111_Empty tissue mask computed\n",
      "error_432466_Empty tissue mask computed\n",
      "error_435821_Empty tissue mask computed\n",
      "error_439905_Empty tissue mask computed\n",
      "error_440348_Empty tissue mask computed\n",
      "error_440597_Empty tissue mask computed\n",
      "error_441165_Empty tissue mask computed\n",
      "error_443137_Empty tissue mask computed\n",
      "error_444090_Empty tissue mask computed\n",
      "error_445120_Empty tissue mask computed\n",
      "error_446742_Empty tissue mask computed\n",
      "error_447979_Empty tissue mask computed\n",
      "error_450804_Empty tissue mask computed\n",
      "error_450917_Empty tissue mask computed\n",
      "error_451087_Empty tissue mask computed\n",
      "error_451201_Empty tissue mask computed\n",
      "error_451589_Empty tissue mask computed\n"
     ]
    }
   ],
   "source": [
    "error = []\n",
    "for i in range(len(filenames)):\n",
    "    sample_ = Image.open(filenames[i])\n",
    "    sample_ = np.array(sample_)\n",
    "  \n",
    "    if sample_.shape[2] == 4:\n",
    "        sample_ = sample_[:,:,:3]\n",
    "    elif sample_.shape[2] != 3:\n",
    "        raise ValueError('image channel num is not 3')\n",
    "   \n",
    "    normalizer = get_stain_normalizer()\n",
    "    try:\n",
    "        rgbaug = apply_stain_norm(sample_, normalizer)\n",
    "    except Exception as e:\n",
    "        error.append(i)\n",
    "        print(f'error_{i}_{e}')"
   ]
  },
  {
   "cell_type": "code",
   "execution_count": null,
   "metadata": {
    "id": "Z5dsxp3WiXlp"
   },
   "outputs": [],
   "source": [
    "# error, len(error)"
   ]
  },
  {
   "cell_type": "code",
   "execution_count": null,
   "metadata": {
    "id": "1FE59RFNiXlp"
   },
   "outputs": [],
   "source": [
    "# import json\n",
    "# with open(\"../data/error_stainNorm.txt\", \"w\") as fp:\n",
    "#     json.dump(error, fp)\n",
    "# with open(\"../data/error_stainNorm.txt\", \"r\") as fp:\n",
    "#     error2 = json.load(fp)"
   ]
  },
  {
   "cell_type": "code",
   "execution_count": 20,
   "metadata": {
    "id": "OblLJ0WJiXlp"
   },
   "outputs": [],
   "source": [
    "data_root_path = '/media/dnr/data_crypt/cy_strap/camelyon17_v1.0/patches'\n",
    "csv_path = '/media/dnr/data_crypt/cy_strap/metadata_fnames_splits_modSplit.csv'\n",
    "error_path = '/media/dnr/data_crypt/cy_strap/error_stainNorm.txt'"
   ]
  },
  {
   "cell_type": "code",
   "execution_count": 21,
   "metadata": {
    "id": "m9obYXwziXlp"
   },
   "outputs": [],
   "source": [
    "class MyDataset(data.Dataset):\n",
    "    def __init__(self, data_root_path=data_root_path, csv_path=csv_path, error_path=error_path, dset_type='train', transform=None):\n",
    "        \"\"\"\n",
    "        dset_type: [\"train\", \"val\", \"test\"]\n",
    "        \"\"\"\n",
    "\n",
    "        df = pd.read_csv(csv_path)\n",
    "        with open(error_path, \"r\") as fp:\n",
    "            error = json.load(fp)\n",
    "        df = df.drop(df.index[error])\n",
    "\n",
    "        self.df = df[df.data_split==dset_type]\n",
    "        origin = str('/media/dnr/data_crypt/cy_strap/camelyon17_v1.0')\n",
    "        temp_fnames = self.df.fnames.tolist()\n",
    "        temp = []\n",
    "        for name in temp_fnames:\n",
    "            t = str(name[7:])\n",
    "            temp_path = origin + t\n",
    "            temp.append(temp_path)\n",
    "        self.fnames = temp\n",
    "        self.labels = self.df.tumor.tolist()\n",
    "        self.transform=transform\n",
    "\n",
    "    def __getitem__(self, index):\n",
    "        fname = self.fnames[index]\n",
    "        label = self.labels[index]\n",
    "        img = np.array(Image.open(fname), dtype='uint8')\n",
    "        \n",
    "        if img.shape[2] == 4:\n",
    "            img = img[:,:,:3]\n",
    "        elif img.shape[2] != 3:\n",
    "            raise ValueError('image channel num is not 3')\n",
    "            \n",
    "        if self.transform is not None:\n",
    "            img = self.transform(img)\n",
    "        return img, label\n",
    "\n",
    "    def __len__(self):\n",
    "        return len(self.df)"
   ]
  },
  {
   "cell_type": "code",
   "execution_count": 22,
   "metadata": {
    "id": "7vECq_JCiXlq",
    "outputId": "8b317220-c6e7-4c09-a18c-899fc82b3c30"
   },
   "outputs": [
    {
     "name": "stdout",
     "output_type": "stream",
     "text": [
      "Finished loading train dataset: 333715 samples\n",
      "Finished loading val dataset: 37018 samples\n",
      "Finished loading test dataset: 85050 samples\n"
     ]
    }
   ],
   "source": [
    "datasets = {}\n",
    "loaders = {}\n",
    "\n",
    "for dset_type in ['train', 'val', 'test']:\n",
    "    if dset_type == 'train':\n",
    "        datasets[dset_type] = MyDataset(dset_type=dset_type, transform = augment)\n",
    "        loaders[dset_type] = torch.utils.data.DataLoader(datasets[dset_type], batch_size=batchSize, shuffle=True, num_workers=4, pin_memory=True)\n",
    "    elif dset_type == 'val':\n",
    "        datasets[dset_type] = MyDataset(dset_type=dset_type, transform = transform)\n",
    "        loaders[dset_type] = torch.utils.data.DataLoader(datasets[dset_type], batch_size=batchSize, shuffle=True, num_workers=4, pin_memory=True)\n",
    "    elif dset_type == 'test':\n",
    "        datasets[dset_type] = MyDataset(dset_type=dset_type, transform = transform)\n",
    "        loaders[dset_type] = torch.utils.data.DataLoader(datasets[dset_type], batch_size=batchSize, shuffle=False, num_workers=4, pin_memory=True)\n",
    "    print('Finished loading %s dataset: %s samples' % (dset_type, len(datasets[dset_type])))"
   ]
  },
  {
   "cell_type": "code",
   "execution_count": 23,
   "metadata": {
    "id": "PY9rQIL9iXlq"
   },
   "outputs": [],
   "source": [
    "def get_model(num_classes):\n",
    "\n",
    "#     model = models.mobilenet_v2(pretrained=True)\n",
    "#     model.classifier = nn.Sequential(nn.Dropout(p=0.2), nn.Linear(1280, num_classes))\n",
    "    \n",
    "    model = models.resnet50(pretrained=True)\n",
    "    num_ftrs = model.fc.in_features\n",
    "    model.classifier = nn.Sequential(nn.Dropout(p=0.2), nn.Linear(num_ftrs, num_classes))\n",
    "    \n",
    "    return model"
   ]
  },
  {
   "cell_type": "code",
   "execution_count": 24,
   "metadata": {
    "id": "UgGtjfIxiXlr"
   },
   "outputs": [],
   "source": [
    "def train_model(model, loaders, criterion, optimizer, scheduler, num_epochs=40, estop=5):\n",
    "    since = time.time()\n",
    "\n",
    "    best_model_wts = copy.deepcopy(model.state_dict())\n",
    "    best_acc = 0.0\n",
    "    best_loss = float(\"inf\")\n",
    "    counter = 0\n",
    "\n",
    "    for epoch in range(num_epochs):\n",
    "        print('Epoch {}/{}'.format(epoch, num_epochs - 1))\n",
    "        print('-' * 10)\n",
    "        \n",
    "        for phase in ['train', 'val']:\n",
    "            if phase == 'train':\n",
    "                model.train()\n",
    "            else:\n",
    "                model.eval()\n",
    "\n",
    "            running_loss = 0.0\n",
    "            running_corrects = 0.0\n",
    "\n",
    "            for inputs, labels in loaders[phase]:\n",
    "                inputs = inputs.to(device)\n",
    "                labels = labels.to(device)\n",
    "\n",
    "                optimizer.zero_grad()\n",
    "                \n",
    "                with torch.set_grad_enabled(phase == 'train'):\n",
    "                    outputs = model(inputs)\n",
    "                    _, preds = torch.max(outputs, 1)\n",
    "                    loss = criterion(outputs, labels)\n",
    "\n",
    "                    if phase == 'train':\n",
    "                        loss.backward()\n",
    "                        optimizer.step()\n",
    "\n",
    "                running_loss += loss.item() * inputs.size(0)\n",
    "                running_corrects += torch.sum(preds == labels.data)\n",
    "            \n",
    "            ##########\n",
    "            \n",
    "#             while True:\n",
    "#                 try:\n",
    "#                     inputs, labels = next(loaders[phase])\n",
    "\n",
    "#                     inputs = inputs.to(device)\n",
    "#                     labels = labels.to(device)\n",
    "\n",
    "#                     optimizer.zero_grad()\n",
    "\n",
    "#                     with torch.set_grad_enabled(phase == 'train'):\n",
    "#                         outputs = model(inputs)\n",
    "#                         _, preds = torch.max(outputs, 1)\n",
    "#                         loss = criterion(outputs, labels)\n",
    "\n",
    "#                         if phase == 'train':\n",
    "#                             loss.backward()\n",
    "#                             optimizer.step()\n",
    "\n",
    "#                     running_loss += loss.item() * inputs.size(0)\n",
    "#                     running_corrects += torch.sum(preds == labels.data)\n",
    "                \n",
    "#                 except:\n",
    "#                     pass\n",
    "\n",
    "            epoch_loss = running_loss / dataset_sizes[phase]\n",
    "            epoch_acc = running_corrects.double() / dataset_sizes[phase]\n",
    "\n",
    "            print('{} Loss: {:.4f} Acc: {:.4f}'.format(phase, epoch_loss, epoch_acc))\n",
    "\n",
    "            if phase == 'val':\n",
    "                if scheduler is not None:\n",
    "                    scheduler.step(epoch_loss)\n",
    "                    \n",
    "                if epoch_loss < best_loss:\n",
    "                    best_epoch = epoch\n",
    "                    best_loss = epoch_loss\n",
    "                    best_acc = epoch_acc\n",
    "                    best_model_wts = copy.deepcopy(model.state_dict())\n",
    "                    counter = 0\n",
    "                else:\n",
    "                    counter += 1\n",
    "\n",
    "        print()\n",
    "\n",
    "        if counter >= estop:\n",
    "            break\n",
    "\n",
    "    time_elapsed = time.time() - since\n",
    "    print('Training complete in {:.0f}m {:.0f}s'.format(time_elapsed // 60, time_elapsed % 60))\n",
    "    print('Best val Acc: {:4f}'.format(best_acc))\n",
    "    print('Best val Loss: {:4f}'.format(best_loss))\n",
    "\n",
    "    model.load_state_dict(best_model_wts)\n",
    "\n",
    "    return model, best_loss, best_acc, best_epoch"
   ]
  },
  {
   "cell_type": "code",
   "execution_count": 25,
   "metadata": {
    "id": "wdjAdVzOiXlr"
   },
   "outputs": [],
   "source": [
    "import warnings\n",
    "warnings.simplefilter(action='ignore', category=RuntimeWarning)"
   ]
  },
  {
   "cell_type": "code",
   "execution_count": null,
   "metadata": {
    "id": "y9f5kgjhiXls",
    "outputId": "633e8920-26ba-4542-d243-44493b663571",
    "scrolled": true
   },
   "outputs": [
    {
     "name": "stdout",
     "output_type": "stream",
     "text": [
      "Epoch 0/39\n",
      "----------\n"
     ]
    }
   ],
   "source": [
    "model = get_model(num_classes)\n",
    "model = model.to('cuda')\n",
    "\n",
    "params_to_update = []\n",
    "for name, param in model.named_parameters():\n",
    "    if param.requires_grad == True:\n",
    "        params_to_update.append(param)\n",
    "\n",
    "optimizer = optim.SGD(params_to_update, lr=0.004, momentum=0.9, nesterov=True)\n",
    "criterion = nn.CrossEntropyLoss()\n",
    "\n",
    "dataset_sizes = {x: len(datasets[x]) for x in ['train', 'val', 'test']}\n",
    "device = torch.device(\"cuda\" if torch.cuda.is_available() else \"cpu\")\n",
    "\n",
    "model, best_loss, best_acc, best_epoch = \\\n",
    "    train_model(model, loaders, criterion, optimizer, scheduler=None, num_epochs=40, estop=5)\n",
    "torch.save(model.state_dict(), 'state_dicts/wilds_stain_normalization_res50_modSplit4.pth')"
   ]
  },
  {
   "cell_type": "code",
   "execution_count": null,
   "metadata": {
    "id": "7oROKq5kiXls"
   },
   "outputs": [],
   "source": [
    "warnings.filterwarnings('default')"
   ]
  },
  {
   "cell_type": "code",
   "execution_count": null,
   "metadata": {
    "id": "pc6NqVnbiXls"
   },
   "outputs": [],
   "source": [
    "def test_model(model, loader, dataset_size, criterion):\n",
    "    \n",
    "    print('-' * 10)\n",
    "    model.eval()\n",
    "    running_loss = 0.0\n",
    "    running_corrects = 0\n",
    "    whole_probs = torch.FloatTensor(dataset_size)\n",
    "    whole_labels = torch.LongTensor(dataset_size)\n",
    "    \n",
    "    with torch.no_grad():\n",
    "\n",
    "        # Iterate over data.\n",
    "        for i, data in enumerate(loader):\n",
    "            inputs = data[0].to(device)\n",
    "            labels = data[1].to(device)\n",
    "\n",
    "            # forward\n",
    "            outputs = model(inputs)\n",
    "            _, preds = torch.max(outputs, 1)\n",
    "            loss = criterion(outputs, labels)\n",
    "\n",
    "            # statistics\n",
    "            running_loss += loss.item() * inputs.size(0)\n",
    "            running_corrects += torch.sum(preds == labels.data)\n",
    "\n",
    "            outputs = F.softmax(outputs, dim=1)\n",
    "            whole_probs[i*batchSize:i*batchSize+inputs.size(0)]=outputs.detach()[:,1].clone()\n",
    "            whole_labels[i*batchSize:i*batchSize+inputs.size(0)]=labels.detach().clone()\n",
    "\n",
    "        total_loss = running_loss / dataset_size\n",
    "        total_acc = running_corrects.double() / dataset_size\n",
    "\n",
    "    print('Test Loss: {:.4f} Acc: {:.4f}'.format(total_loss, total_acc))\n",
    "\n",
    "    return whole_probs.cpu().numpy(), whole_labels.cpu().numpy(), total_loss, total_acc"
   ]
  },
  {
   "cell_type": "code",
   "execution_count": null,
   "metadata": {
    "id": "lZTMb88GiXls",
    "outputId": "404da2e3-99d8-4979-a6a1-e2860ce79261"
   },
   "outputs": [
    {
     "name": "stderr",
     "output_type": "stream",
     "text": [
      "/home/rikiya/miniconda3/envs/pytorch14/lib/python3.6/importlib/_bootstrap.py:219: RuntimeWarning: numpy.ufunc size changed, may indicate binary incompatibility. Expected 192 from C header, got 216 from PyObject\n",
      "  return f(*args, **kwds)\n",
      "/home/rikiya/miniconda3/envs/pytorch14/lib/python3.6/importlib/_bootstrap.py:219: RuntimeWarning: numpy.ufunc size changed, may indicate binary incompatibility. Expected 192 from C header, got 216 from PyObject\n",
      "  return f(*args, **kwds)\n",
      "/home/rikiya/miniconda3/envs/pytorch14/lib/python3.6/importlib/_bootstrap.py:219: RuntimeWarning: numpy.ufunc size changed, may indicate binary incompatibility. Expected 192 from C header, got 216 from PyObject\n",
      "  return f(*args, **kwds)\n"
     ]
    }
   ],
   "source": [
    "from sklearn.metrics import accuracy_score\n",
    "from sklearn.metrics import confusion_matrix\n",
    "import itertools\n",
    "from sklearn.metrics import roc_curve, auc, roc_auc_score"
   ]
  },
  {
   "cell_type": "code",
   "execution_count": null,
   "metadata": {
    "id": "xvnGEtOViXlt"
   },
   "outputs": [],
   "source": [
    "from sklearn.metrics import roc_auc_score\n",
    "def bootstrap_auc(y_true, y_pred, n_bootstraps=1000, rng_seed=42):\n",
    "    n_bootstraps = n_bootstraps\n",
    "    rng_seed = rng_seed  # control reproducibility\n",
    "    bootstrapped_scores = []\n",
    "\n",
    "    rng = np.random.RandomState(rng_seed)\n",
    "    for i in range(n_bootstraps):\n",
    "        # bootstrap by sampling with replacement on the prediction indices\n",
    "        indices = rng.randint(len(y_pred), size=len(y_pred))\n",
    "        if len(np.unique(y_true[indices])) < 2:\n",
    "            # We need at least one positive and one negative sample for ROC AUC\n",
    "            # to be defined: reject the sample\n",
    "            continue\n",
    "        score = roc_auc_score(y_true[indices], y_pred[indices])\n",
    "        bootstrapped_scores.append(score)\n",
    "#         print(\"Bootstrap #{} ROC area: {:0.3f}\".format(i + 1, score))\n",
    "    bootstrapped_scores = np.array(bootstrapped_scores)\n",
    "\n",
    "    print(\"Confidence interval for the score: [{:0.3f} - {:0.3}]\".format(\n",
    "        np.percentile(bootstrapped_scores, (2.5, 97.5))[0], np.percentile(bootstrapped_scores, (2.5, 97.5))[1]))\n",
    "    \n",
    "    return np.percentile(bootstrapped_scores, (2.5, 97.5))[0], np.percentile(bootstrapped_scores, (2.5, 97.5))[1]"
   ]
  },
  {
   "cell_type": "code",
   "execution_count": null,
   "metadata": {
    "id": "gPs3UlpGiXlt"
   },
   "outputs": [],
   "source": [
    "def plot_confusion_matrix(cm, classes,\n",
    "                          normalize=False,\n",
    "                          title='Confusion matrix',\n",
    "                          cmap=plt.cm.Blues):\n",
    "    \"\"\"\n",
    "    This function prints and plots the confusion matrix.\n",
    "    Normalization can be applied by setting `normalize=True`.\n",
    "    \"\"\"\n",
    "    if normalize:\n",
    "        cm = cm.astype('float') / cm.sum(axis=1)[:, np.newaxis]\n",
    "        print(\"Normalized confusion matrix\")\n",
    "    else:\n",
    "        print('Confusion matrix')\n",
    "\n",
    "    print(cm)\n",
    "\n",
    "    plt.imshow(cm, interpolation='nearest', cmap=cmap)\n",
    "    plt.title(title)\n",
    "    plt.colorbar()\n",
    "    tick_marks = np.arange(len(classes))\n",
    "    plt.xticks(tick_marks, classes, rotation=45)\n",
    "    plt.yticks(tick_marks, classes)\n",
    "\n",
    "    fmt = '.2f' if normalize else 'd'\n",
    "    thresh = cm.max() / 1.5\n",
    "    for i, j in itertools.product(range(cm.shape[0]), range(cm.shape[1])):\n",
    "        plt.text(j, i, format(cm[i, j], fmt),\n",
    "                 horizontalalignment=\"center\",\n",
    "                 color=\"white\" if cm[i, j] > thresh else \"black\")\n",
    "\n",
    "    plt.tight_layout()\n",
    "    plt.ylabel('True label')\n",
    "    plt.xlabel('Predicted label')"
   ]
  },
  {
   "cell_type": "code",
   "execution_count": null,
   "metadata": {
    "id": "I8118cimiXlt",
    "outputId": "1e8c5215-8897-48b4-b587-c826ce4f300c"
   },
   "outputs": [
    {
     "name": "stdout",
     "output_type": "stream",
     "text": [
      "----------\n",
      "Test Loss: 1.8139 Acc: 0.6307\n"
     ]
    }
   ],
   "source": [
    "prob_test, label_test, loss_test, acc_test = test_model(model, loaders['test'], dataset_sizes['test'], criterion)"
   ]
  },
  {
   "cell_type": "code",
   "execution_count": null,
   "metadata": {
    "id": "KPxI5vr_iXlt"
   },
   "outputs": [],
   "source": [
    "pred_test = [1 if prob>0.50 else 0 for prob in prob_test]"
   ]
  },
  {
   "cell_type": "code",
   "execution_count": null,
   "metadata": {
    "id": "f3FlhOtFiXlt",
    "outputId": "cb3e61f2-6476-4a4e-99b9-1f82c2411251"
   },
   "outputs": [
    {
     "name": "stdout",
     "output_type": "stream",
     "text": [
      "[[42426    97]\n",
      " [31309 11218]]\n",
      "accuracy = 63.07348618459729\n"
     ]
    }
   ],
   "source": [
    "cm = confusion_matrix(label_test, pred_test)\n",
    "print(cm)\n",
    "acc = (cm[0][0]+cm[1][1])/len(pred_test)*100\n",
    "print('accuracy = ' + str(acc))"
   ]
  },
  {
   "cell_type": "code",
   "execution_count": null,
   "metadata": {
    "id": "wruwiDCpiXlt",
    "outputId": "0f1acd31-f8eb-4827-c7ff-35e1ab8d0a24"
   },
   "outputs": [
    {
     "name": "stdout",
     "output_type": "stream",
     "text": [
      "tile-wise AUC is 0.8586156349206833\n"
     ]
    }
   ],
   "source": [
    "print(f'tile-wise AUC is {roc_auc_score(label_test, prob_test)}')"
   ]
  },
  {
   "cell_type": "code",
   "execution_count": null,
   "metadata": {
    "id": "DbAPfQEdiXlu",
    "outputId": "64c126c1-8cc4-44e2-dae3-11b147a168f3"
   },
   "outputs": [
    {
     "name": "stdout",
     "output_type": "stream",
     "text": [
      "Confidence interval for the score: [0.856 - 0.861]\n",
      "AUROC = 0.8586156349206833 with 95CI of 0.856144530524559-0.8610664114602331\n"
     ]
    }
   ],
   "source": [
    "false_positive_rate, true_positive_rate, thresholds = roc_curve(label_test, prob_test)\n",
    "roc_auc = auc(false_positive_rate, true_positive_rate)\n",
    "ci_low, ci_high = bootstrap_auc(np.array(label_test), np.array(prob_test))\n",
    "print(f'AUROC = {roc_auc} with 95CI of {ci_low}-{ci_high}')"
   ]
  },
  {
   "cell_type": "code",
   "execution_count": null,
   "metadata": {
    "id": "pzNTjQ1PiXlu",
    "outputId": "2929a9e3-8df3-4b4e-84c5-ed29b62947a5"
   },
   "outputs": [
    {
     "name": "stdout",
     "output_type": "stream",
     "text": [
      "Confusion matrix\n",
      "[[42426    97]\n",
      " [31309 11218]]\n"
     ]
    },
    {
     "data": {
      "image/png": "[encoded data removed]",
      "text/plain": [
       "<Figure size 432x288 with 2 Axes>"
      ]
     },
     "metadata": {
      "needs_background": "light",
      "tags": []
     },
     "output_type": "display_data"
    }
   ],
   "source": [
    "plot_confusion_matrix(cm, classes=[\"normal\", \"tumor\"])"
   ]
  },
  {
   "cell_type": "code",
   "execution_count": null,
   "metadata": {
    "id": "ldc8hTROiXlu",
    "outputId": "76098262-7853-42a9-8f71-8431ed2457ea"
   },
   "outputs": [
    {
     "data": {
      "image/png": "[encoded data removed]",
      "text/plain": [
       "<Figure size 432x288 with 1 Axes>"
      ]
     },
     "metadata": {
      "needs_background": "light",
      "tags": []
     },
     "output_type": "display_data"
    }
   ],
   "source": [
    "plt.title(\"Receiver Operating Characteristic\")\n",
    "plt.plot(false_positive_rate, true_positive_rate, color=\"teal\", label=\"AUC = %0.2f\" % roc_auc)\n",
    "plt.legend(loc=\"lower right\")\n",
    "plt.plot([0,1],[0,1], color=\"lightcoral\", ls=\"--\")\n",
    "plt.xlim([-0.1, 1.2])\n",
    "plt.ylim([-0.1, 1.2])\n",
    "plt.ylabel(\"True Positive Rate\")\n",
    "plt.xlabel(\"False Positive Rate\")\n",
    "plt.show()"
   ]
  },
  {
   "cell_type": "code",
   "execution_count": null,
   "metadata": {
    "id": "a_k9wpsSiXlu"
   },
   "outputs": [],
   "source": []
  }
 ],
 "metadata": {
  "colab": {
   "name": "wilds_stainNorm_res50_toshare_chaeyoung.ipynb",
   "provenance": []
  },
  "kernelspec": {
   "display_name": "Python 3",
   "language": "python",
   "name": "python3"
  },
  "language_info": {
   "codemirror_mode": {
    "name": "ipython",
    "version": 3
   },
   "file_extension": ".py",
   "mimetype": "text/x-python",
   "name": "python",
   "nbconvert_exporter": "python",
   "pygments_lexer": "ipython3",
   "version": "3.6.10"
  }
 },
 "nbformat": 4,
 "nbformat_minor": 1
}
